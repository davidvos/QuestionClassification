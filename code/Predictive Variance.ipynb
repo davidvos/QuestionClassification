{
 "cells": [
  {
   "cell_type": "code",
   "execution_count": 2,
   "metadata": {},
   "outputs": [],
   "source": [
    "# Note that this ipynb is based on the blogpost made by Yarin Gal which can be found at\n",
    "# link: http://www.cs.ox.ac.uk/people/yarin.gal/website/blog_3d801aa532c1ce.html\n",
    "import torch\n",
    "from torch import nn\n",
    "from torch.autograd import Variable\n",
    "import torch.nn.functional as F\n",
    "\n",
    "import numpy as np\n",
    "import matplotlib.pyplot as plt\n",
    "\n",
    "import sys\n",
    "import pickle\n",
    "import time\n",
    "\n",
    "from dataset import Dataset"
   ]
  },
  {
   "cell_type": "code",
   "execution_count": 3,
   "metadata": {},
   "outputs": [],
   "source": [
    "\n",
    "class CNN_Text(nn.Module):\n",
    "    \n",
    "    def __init__(self, embed_num, embed_dim, class_num, kernel_num, kernel_sizes, dropout):\n",
    "        super(CNN_Text, self).__init__()\n",
    "        \n",
    "        V = embed_num\n",
    "        D = embed_dim\n",
    "        C = class_num\n",
    "        Ci = 1\n",
    "        Co = kernel_num\n",
    "        Ks = kernel_sizes\n",
    "\n",
    "#         self.embed = nn.Embedding(V, D)\n",
    "        self.convs = nn.ModuleList([nn.Conv2d(Ci, Co, (K, D)) for K in Ks])\n",
    "        self.dropout = nn.Dropout(dropout)\n",
    "        self.fc1 = nn.Linear(len(Ks) * Co, C)\n",
    "\n",
    "\n",
    "\n",
    "    def forward(self, x):\n",
    "#         x = self.embed(x)  # (N, W, D)\n",
    "    \n",
    "        x = x.unsqueeze(1)  # (N, Ci, W, D)\n",
    "\n",
    "        x = [torch.tanh(conv(x)).squeeze(3) for conv in self.convs]  # [(N, Co, W), ...]*len(Ks)\n",
    "\n",
    "        x = [self.dropout(i) for i in x]\n",
    "        \n",
    "        x = [F.max_pool1d(i, i.size(2)).squeeze(2) for i in x]  # [(N, Co), ...]*len(Ks)\n",
    "\n",
    "        x = torch.cat(x, 1)\n",
    "\n",
    "#         x = self.dropout(x)  # (N, len(Ks)*Co)\n",
    "        logit = self.fc1(x)  # (N, C)\n",
    "        return logit\n",
    "    \n"
   ]
  },
  {
   "cell_type": "code",
   "execution_count": 39,
   "metadata": {},
   "outputs": [],
   "source": [
    "# DIT NIET VERWIJDEREN\n",
    "# DIT MAAKT EEN PLOTJE WAT NOG OPGEMAAKT MOET WORDEN MAAR WAARVAN HET IDEE LOGISCH IS\n",
    "# VAR --> GAAT OMHOOG WANT DE WAARDES IN DE SOFTMAX GAAN STEEDS MEER VERSCHILLEN NAARMATE HIJ TRAINT\n",
    "\n",
    "from scipy.special import softmax\n",
    "from collections import defaultdict\n",
    "device = \"cuda\" if torch.cuda.is_available() else \"cpu\"\n",
    "kernel_sizes = [2, 3, 4]\n",
    "cnn_classifier = CNN_Text(\n",
    "        embed_dim=768,\n",
    "        embed_num=512,\n",
    "        class_num=6,\n",
    "        kernel_num=len(kernel_sizes),\n",
    "        kernel_sizes=kernel_sizes,\n",
    "        dropout=0.5\n",
    "    ).to(device)\n",
    "\n",
    "model_epochs = [5,10,25,50,75]\n",
    "T = 100\n",
    "\n",
    "l = 1\n",
    "p_dropout = 0.5\n",
    "N = 500\n",
    "weight_decay = 4e-4\n",
    "tau = ((l**2) * (1-p_dropout)) / (2 * N * weight_decay) \n",
    "\n",
    "processed_test_path = \"C:/Users/Laurence/Desktop/QuestionClassification-master_vos/code/data/test/test_pre_processed/\"\n",
    "test_dataset = Dataset(processed_test_path)\n",
    "\n",
    "def calc_var(tau, test_dataset, cnn_classifier, model_folder, model_size):\n",
    "    all_results_EV = []\n",
    "    all_results_PV = []\n",
    "    results_EV = defaultdict(list)\n",
    "    results_PV = defaultdict(list)\n",
    "    for m_e in model_epochs:\n",
    "        print(f\"current model: {m_e}\")\n",
    "        if model_size == \"big\":\n",
    "            model_path = f\"{model_folder}/big_random_seed_7_epoch_{m_e}.p\"\n",
    "        elif model_size == \"small\":\n",
    "            model_path = f\"{model_folder}/random_seed_2_epoch_{m_e}.p\"\n",
    "        cnn_classifier.load_state_dict(torch.load(model_path))\n",
    "        predictive_var = []\n",
    "        for file_index in range(len(test_dataset)):\n",
    "            batch, labels = test_dataset[file_index]\n",
    "            for index, (x,y) in enumerate(zip(batch, labels)):\n",
    "                y_np = y.numpy()\n",
    "                class_label = np.where(y_np == 1.0)[0][0]\n",
    "                probs = []\n",
    "\n",
    "                for _ in range(T):\n",
    "                    # do forward pass T times\n",
    "                    #probs += [cnn_classifier.forward(x.unsqueeze(0).float().to(device)).detach().cpu().numpy()[0]]\n",
    "                    #probs.append(prob)\n",
    "                    probs += [softmax(cnn_classifier.forward(x.unsqueeze(0).float().to(device)).detach().cpu().numpy()[0])]\n",
    "\n",
    "                #print(np.mean(probs))\n",
    "                p_y_var = np.var(probs) + tau**-1\n",
    "                predictive_var.append(p_y_var)\n",
    "\n",
    "        results_PV[m_e] = predictive_var\n",
    "        \n",
    "    return results_PV\n",
    "\n",
    "\n",
    "\n"
   ]
  },
  {
   "cell_type": "code",
   "execution_count": null,
   "metadata": {},
   "outputs": [],
   "source": [
    "model_path_big = \"C:/Users/Laurence/Desktop/QuestionClassification-master_vos/predictive_variance/cnn_models\"\n",
    "results_PV_big = calc_var(tau, test_dataset, cnn_classifier, model_path_big, model_size = \"big\")"
   ]
  },
  {
   "cell_type": "code",
   "execution_count": 40,
   "metadata": {},
   "outputs": [
    {
     "name": "stdout",
     "output_type": "stream",
     "text": [
      "current model: 5\n",
      "current model: 10\n",
      "current model: 25\n",
      "current model: 50\n",
      "current model: 75\n"
     ]
    }
   ],
   "source": [
    "model_path_small = \"C:/Users/Laurence/Desktop/QuestionClassification-master_vos/predictive_variance/cnn_models_small\"\n",
    "results_PV_small = calc_var(tau, test_dataset, cnn_classifier, model_path_small, model_size = \"small\")"
   ]
  },
  {
   "cell_type": "code",
   "execution_count": 42,
   "metadata": {},
   "outputs": [
    {
     "data": {
      "image/png": "[encoded data removed]",
      "text/plain": [
       "<Figure size 432x288 with 1 Axes>"
      ]
     },
     "metadata": {
      "needs_background": "light"
     },
     "output_type": "display_data"
    }
   ],
   "source": [
    "results_small, results_big = [], []\n",
    "for model, results in results_PV_small.items():\n",
    "    #print(model, results)\n",
    "    #print([x for x in range(0,len(model_epochs)+1)])\n",
    "    #plt.scatter(np.asarray([x for x in range(0,len(model_epochs)+1)]),np.mean(results).T, label = f\"epoch{model}\", marker = 'o')\n",
    "    results_small.append(np.mean(results))\n",
    "\n",
    "for model, results in results_PV_big.items():\n",
    "    results_big.append(np.mean(results))\n",
    "#print(results1)\n",
    "#plt.scatter([x for x in range(0,len(model_epochs))], results1)\n",
    "plt.xlabel(\"Epochs trained for\")\n",
    "plt.ylabel(\"Predictive variance\")\n",
    "plt.title(\"Predictive variance of the model at various training points\")\n",
    "plt.plot(model_epochs, results_small, label = \"Trained on 36% of the data\")\n",
    "plt.plot(model_epochs, results_big, label = \"Trained on 100% of the data\")\n",
    "plt.legend()\n",
    "plt.savefig(\"predvar5epochs\")\n",
    "plt.show()"
   ]
  },
  {
   "cell_type": "code",
   "execution_count": null,
   "metadata": {},
   "outputs": [],
   "source": [
    "%%%%%%%%%%%%%"
   ]
  }
 ],
 "metadata": {
  "kernelspec": {
   "display_name": "Python 3",
   "language": "python",
   "name": "python3"
  },
  "language_info": {
   "codemirror_mode": {
    "name": "ipython",
    "version": 3
   },
   "file_extension": ".py",
   "mimetype": "text/x-python",
   "name": "python",
   "nbconvert_exporter": "python",
   "pygments_lexer": "ipython3",
   "version": "3.7.6"
  }
 },
 "nbformat": 4,
 "nbformat_minor": 4
}
